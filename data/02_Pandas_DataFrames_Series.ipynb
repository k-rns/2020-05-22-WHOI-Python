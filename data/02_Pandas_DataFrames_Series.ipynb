{
 "cells": [
  {
   "cell_type": "markdown",
   "metadata": {},
   "source": [
    "# Pandas"
   ]
  },
  {
   "cell_type": "markdown",
   "metadata": {},
   "source": [
    "Pandas is a Python library. A **library** in Python contains a set of tools (called functions) that perform tasks on our data.\n",
    "\n",
    "Pandas is one of the best options for working with tabular data in Python.\n"
   ]
  },
  {
   "cell_type": "markdown",
   "metadata": {},
   "source": [
    "## Import a library"
   ]
  },
  {
   "cell_type": "markdown",
   "metadata": {},
   "source": [
    "Python doesn’t load all of the libraries available to it by default. We have to add an import statement to our code in order to use library functions. To import a library, we use the syntax import libraryName. If we want to give the library a nickname to shorten the command, we can add as nickNameHere. The common nickname for pandas is pd."
   ]
  },
  {
   "cell_type": "code",
   "execution_count": 3,
   "metadata": {},
   "outputs": [],
   "source": [
    "#Import the library\n",
    "import pandas as pd"
   ]
  },
  {
   "cell_type": "markdown",
   "metadata": {},
   "source": [
    "## Importing data & the Pandas Dataframe"
   ]
  },
  {
   "cell_type": "markdown",
   "metadata": {},
   "source": [
    "Pandas provides an object called DataFrame. Dataframes represent tabular data. They are a 2-dimensional data structure. They include columns, each of which is a Series with a name, and all columns share the same index (An index refers to the position of an element in the data structure.). We import a csv table into a data frame using the read_csv function."
   ]
  },
  {
   "cell_type": "code",
   "execution_count": 6,
   "metadata": {
    "scrolled": true
   },
   "outputs": [
    {
     "data": {
      "text/html": [
       "<div>\n",
       "<style scoped>\n",
       "    .dataframe tbody tr th:only-of-type {\n",
       "        vertical-align: middle;\n",
       "    }\n",
       "\n",
       "    .dataframe tbody tr th {\n",
       "        vertical-align: top;\n",
       "    }\n",
       "\n",
       "    .dataframe thead th {\n",
       "        text-align: right;\n",
       "    }\n",
       "</style>\n",
       "<table border=\"1\" class=\"dataframe\">\n",
       "  <thead>\n",
       "    <tr style=\"text-align: right;\">\n",
       "      <th></th>\n",
       "      <th>cruise</th>\n",
       "      <th>cast</th>\n",
       "      <th>date</th>\n",
       "      <th>latitude</th>\n",
       "      <th>longitude</th>\n",
       "      <th>nearest_station</th>\n",
       "      <th>distance_km</th>\n",
       "    </tr>\n",
       "  </thead>\n",
       "  <tbody>\n",
       "    <tr>\n",
       "      <th>0</th>\n",
       "      <td>EN617</td>\n",
       "      <td>1</td>\n",
       "      <td>2018-07-20 17:23:53+00:00</td>\n",
       "      <td>41.200667</td>\n",
       "      <td>-70.885333</td>\n",
       "      <td>L1</td>\n",
       "      <td>0.472395</td>\n",
       "    </tr>\n",
       "    <tr>\n",
       "      <th>1</th>\n",
       "      <td>EN617</td>\n",
       "      <td>2</td>\n",
       "      <td>2018-07-20 22:57:14+00:00</td>\n",
       "      <td>41.030333</td>\n",
       "      <td>-70.880667</td>\n",
       "      <td>L2</td>\n",
       "      <td>0.224528</td>\n",
       "    </tr>\n",
       "    <tr>\n",
       "      <th>2</th>\n",
       "      <td>EN617</td>\n",
       "      <td>3</td>\n",
       "      <td>2018-07-21 01:15:21+00:00</td>\n",
       "      <td>41.030000</td>\n",
       "      <td>-70.769833</td>\n",
       "      <td>u2a</td>\n",
       "      <td>0.224259</td>\n",
       "    </tr>\n",
       "    <tr>\n",
       "      <th>3</th>\n",
       "      <td>EN617</td>\n",
       "      <td>4</td>\n",
       "      <td>2018-07-21 02:58:24+00:00</td>\n",
       "      <td>41.030333</td>\n",
       "      <td>-70.991167</td>\n",
       "      <td>d2a</td>\n",
       "      <td>0.257766</td>\n",
       "    </tr>\n",
       "    <tr>\n",
       "      <th>4</th>\n",
       "      <td>EN617</td>\n",
       "      <td>5</td>\n",
       "      <td>2018-07-21 06:39:49+00:00</td>\n",
       "      <td>40.863667</td>\n",
       "      <td>-70.883000</td>\n",
       "      <td>L3</td>\n",
       "      <td>0.047935</td>\n",
       "    </tr>\n",
       "  </tbody>\n",
       "</table>\n",
       "</div>"
      ],
      "text/plain": [
       "  cruise  cast                       date   latitude  longitude  \\\n",
       "0  EN617     1  2018-07-20 17:23:53+00:00  41.200667 -70.885333   \n",
       "1  EN617     2  2018-07-20 22:57:14+00:00  41.030333 -70.880667   \n",
       "2  EN617     3  2018-07-21 01:15:21+00:00  41.030000 -70.769833   \n",
       "3  EN617     4  2018-07-21 02:58:24+00:00  41.030333 -70.991167   \n",
       "4  EN617     5  2018-07-21 06:39:49+00:00  40.863667 -70.883000   \n",
       "\n",
       "  nearest_station  distance_km  \n",
       "0              L1     0.472395  \n",
       "1              L2     0.224528  \n",
       "2             u2a     0.224259  \n",
       "3             d2a     0.257766  \n",
       "4              L3     0.047935  "
      ]
     },
     "execution_count": 6,
     "metadata": {},
     "output_type": "execute_result"
    }
   ],
   "source": [
    "# Create a dataframe by reading CSV data from a URL\n",
    "data_url = 'https://nes-lter-data.whoi.edu/api/ctd/en617/metadata.csv'\n",
    "\n",
    "#Read in data stored locally on your computer\n",
    "#data_local= 'C:/Users/ksoenen/Desktop/Untitled Folder/surveys.csv'\n",
    "\n",
    "#Read in data from BCO-DMO ERDDAP server (URL)\n",
    "#data_url_BCODMO = 'https://erddap.bco-dmo.org/erddap/tabledap/bcodmo_dataset_739098.csvp'\n",
    "\n",
    "my_dataframe = pd.read_csv(data_url)\n",
    "my_dataframe.head(5)"
   ]
  },
  {
   "cell_type": "markdown",
   "metadata": {},
   "source": [
    "IMPORTANT:  A DataFrame always has an index (0-based). An index refers to the position of an element in the data structure."
   ]
  },
  {
   "cell_type": "markdown",
   "metadata": {},
   "source": [
    "NOTE 1: The read_csv function has many more parameters that can be filled in like  loading a csv without header names add header=None: my_dataframe=pd.read_csv(data_url, header=None) See https://pandas.pydata.org/pandas-docs/stable/reference/api/pandas.read_csv.html for all paramters related to this function."
   ]
  },
  {
   "cell_type": "markdown",
   "metadata": {},
   "source": [
    "NOTE 2: To read in an excel file use the read_excel function and its parameters, i.e. my_dataframe = pd.read_excel(data_URL). See https://pandas.pydata.org/pandas-docs/stable/reference/api/pandas.read_excel.html for the function specific parameters."
   ]
  },
  {
   "cell_type": "markdown",
   "metadata": {},
   "source": [
    "## Basic dataframe info"
   ]
  },
  {
   "cell_type": "markdown",
   "metadata": {},
   "source": [
    "What are the column names?"
   ]
  },
  {
   "cell_type": "code",
   "execution_count": 7,
   "metadata": {
    "scrolled": false
   },
   "outputs": [
    {
     "data": {
      "text/plain": [
       "Index(['cruise', 'cast', 'date', 'latitude', 'longitude', 'nearest_station',\n",
       "       'distance_km'],\n",
       "      dtype='object')"
      ]
     },
     "execution_count": 7,
     "metadata": {},
     "output_type": "execute_result"
    }
   ],
   "source": [
    "# accessing column names returns a column index\n",
    "my_dataframe.columns"
   ]
  },
  {
   "cell_type": "markdown",
   "metadata": {},
   "source": [
    "What types do I have in my column?"
   ]
  },
  {
   "cell_type": "code",
   "execution_count": 8,
   "metadata": {},
   "outputs": [
    {
     "data": {
      "text/plain": [
       "cruise              object\n",
       "cast                 int64\n",
       "date                object\n",
       "latitude           float64\n",
       "longitude          float64\n",
       "nearest_station     object\n",
       "distance_km        float64\n",
       "dtype: object"
      ]
     },
     "execution_count": 8,
     "metadata": {},
     "output_type": "execute_result"
    }
   ],
   "source": [
    "my_dataframe.dtypes"
   ]
  },
  {
   "cell_type": "markdown",
   "metadata": {},
   "source": [
    "**Try other functions**  \n",
    "my_dateframe.shape  \n",
    "my_dataframe.tail()"
   ]
  },
  {
   "cell_type": "markdown",
   "metadata": {},
   "source": [
    "## Selections in a dataframe "
   ]
  },
  {
   "cell_type": "markdown",
   "metadata": {},
   "source": [
    "### Select one column"
   ]
  },
  {
   "cell_type": "code",
   "execution_count": 26,
   "metadata": {},
   "outputs": [
    {
     "data": {
      "text/plain": [
       "0    -70.885333\n",
       "1    -70.880667\n",
       "2    -70.769833\n",
       "3    -70.991167\n",
       "4    -70.883000\n",
       "5    -70.772667\n",
       "6    -70.993167\n",
       "7    -70.880167\n",
       "8    -70.880833\n",
       "9    -70.770833\n",
       "10   -70.989000\n",
       "11   -70.888500\n",
       "12   -70.892167\n",
       "13   -70.758500\n",
       "14   -70.779000\n",
       "15   -70.993167\n",
       "16   -70.876333\n",
       "17   -70.884333\n",
       "18   -70.769667\n",
       "19   -70.987333\n",
       "20   -70.879167\n",
       "21   -70.872333\n",
       "22   -70.768167\n",
       "23   -70.766000\n",
       "24   -70.875333\n",
       "25   -70.879167\n",
       "26   -70.889000\n",
       "27   -70.886167\n",
       "28   -70.887333\n",
       "29   -70.879167\n",
       "30   -70.880833\n",
       "31   -70.877500\n",
       "32   -70.878333\n",
       "33   -70.882167\n",
       "34   -70.585667\n",
       "Name: longitude, dtype: float64"
      ]
     },
     "execution_count": 26,
     "metadata": {},
     "output_type": "execute_result"
    }
   ],
   "source": [
    "# accessing a single column returns a Series (1 dimensional) does not have a column name\n",
    "my_dataframe['longitude']\n",
    "\n",
    "# Accessing multiple columns, (2 dimensional) list of columns names + indexing operator (column name)\n",
    "# my_dataframe[['date','cruise']]"
   ]
  },
  {
   "cell_type": "markdown",
   "metadata": {},
   "source": [
    "### Selecting a row from the dataframe"
   ]
  },
  {
   "cell_type": "markdown",
   "metadata": {},
   "source": [
    "Selecting a row from a dataframe by index, is done by using the loc attribute. A series representing the row is returned, indexed by column name"
   ]
  },
  {
   "cell_type": "code",
   "execution_count": 6,
   "metadata": {},
   "outputs": [
    {
     "data": {
      "text/plain": [
       "cruise                                 EN617\n",
       "cast                                       5\n",
       "date               2018-07-21 06:39:49+00:00\n",
       "latitude                             40.8637\n",
       "longitude                            -70.883\n",
       "nearest_station                           L3\n",
       "distance_km                        0.0479347\n",
       "Name: 4, dtype: object"
      ]
     },
     "execution_count": 6,
     "metadata": {},
     "output_type": "execute_result"
    }
   ],
   "source": [
    "row = my_dataframe.loc[4] #4 is the index number\n",
    "row"
   ]
  },
  {
   "cell_type": "markdown",
   "metadata": {},
   "source": [
    "### Selecting a row from the dataframe based on another column"
   ]
  },
  {
   "cell_type": "markdown",
   "metadata": {},
   "source": [
    "Step 1: Set a column as index, in this case the column called 'cast' will be the index"
   ]
  },
  {
   "cell_type": "code",
   "execution_count": 16,
   "metadata": {
    "scrolled": true
   },
   "outputs": [
    {
     "data": {
      "text/html": [
       "<div>\n",
       "<style scoped>\n",
       "    .dataframe tbody tr th:only-of-type {\n",
       "        vertical-align: middle;\n",
       "    }\n",
       "\n",
       "    .dataframe tbody tr th {\n",
       "        vertical-align: top;\n",
       "    }\n",
       "\n",
       "    .dataframe thead th {\n",
       "        text-align: right;\n",
       "    }\n",
       "</style>\n",
       "<table border=\"1\" class=\"dataframe\">\n",
       "  <thead>\n",
       "    <tr style=\"text-align: right;\">\n",
       "      <th></th>\n",
       "      <th>cruise</th>\n",
       "      <th>date</th>\n",
       "      <th>latitude</th>\n",
       "      <th>longitude</th>\n",
       "      <th>nearest_station</th>\n",
       "      <th>distance_km</th>\n",
       "    </tr>\n",
       "    <tr>\n",
       "      <th>cast</th>\n",
       "      <th></th>\n",
       "      <th></th>\n",
       "      <th></th>\n",
       "      <th></th>\n",
       "      <th></th>\n",
       "      <th></th>\n",
       "    </tr>\n",
       "  </thead>\n",
       "  <tbody>\n",
       "    <tr>\n",
       "      <th>1</th>\n",
       "      <td>EN617</td>\n",
       "      <td>2018-07-20 17:23:53+00:00</td>\n",
       "      <td>41.200667</td>\n",
       "      <td>-70.885333</td>\n",
       "      <td>L1</td>\n",
       "      <td>0.472395</td>\n",
       "    </tr>\n",
       "    <tr>\n",
       "      <th>2</th>\n",
       "      <td>EN617</td>\n",
       "      <td>2018-07-20 22:57:14+00:00</td>\n",
       "      <td>41.030333</td>\n",
       "      <td>-70.880667</td>\n",
       "      <td>L2</td>\n",
       "      <td>0.224528</td>\n",
       "    </tr>\n",
       "    <tr>\n",
       "      <th>3</th>\n",
       "      <td>EN617</td>\n",
       "      <td>2018-07-21 01:15:21+00:00</td>\n",
       "      <td>41.030000</td>\n",
       "      <td>-70.769833</td>\n",
       "      <td>u2a</td>\n",
       "      <td>0.224259</td>\n",
       "    </tr>\n",
       "    <tr>\n",
       "      <th>4</th>\n",
       "      <td>EN617</td>\n",
       "      <td>2018-07-21 02:58:24+00:00</td>\n",
       "      <td>41.030333</td>\n",
       "      <td>-70.991167</td>\n",
       "      <td>d2a</td>\n",
       "      <td>0.257766</td>\n",
       "    </tr>\n",
       "    <tr>\n",
       "      <th>5</th>\n",
       "      <td>EN617</td>\n",
       "      <td>2018-07-21 06:39:49+00:00</td>\n",
       "      <td>40.863667</td>\n",
       "      <td>-70.883000</td>\n",
       "      <td>L3</td>\n",
       "      <td>0.047935</td>\n",
       "    </tr>\n",
       "  </tbody>\n",
       "</table>\n",
       "</div>"
      ],
      "text/plain": [
       "     cruise                       date   latitude  longitude nearest_station  \\\n",
       "cast                                                                           \n",
       "1     EN617  2018-07-20 17:23:53+00:00  41.200667 -70.885333              L1   \n",
       "2     EN617  2018-07-20 22:57:14+00:00  41.030333 -70.880667              L2   \n",
       "3     EN617  2018-07-21 01:15:21+00:00  41.030000 -70.769833             u2a   \n",
       "4     EN617  2018-07-21 02:58:24+00:00  41.030333 -70.991167             d2a   \n",
       "5     EN617  2018-07-21 06:39:49+00:00  40.863667 -70.883000              L3   \n",
       "\n",
       "      distance_km  \n",
       "cast               \n",
       "1        0.472395  \n",
       "2        0.224528  \n",
       "3        0.224259  \n",
       "4        0.257766  \n",
       "5        0.047935  "
      ]
     },
     "execution_count": 16,
     "metadata": {},
     "output_type": "execute_result"
    }
   ],
   "source": [
    "by_cast = my_dataframe.set_index('cast')\n",
    "by_cast.head(5)"
   ]
  },
  {
   "cell_type": "markdown",
   "metadata": {},
   "source": [
    "Step 2: select a row by index of cast"
   ]
  },
  {
   "cell_type": "code",
   "execution_count": 17,
   "metadata": {
    "scrolled": false
   },
   "outputs": [
    {
     "data": {
      "text/plain": [
       "cruise                                 EN617\n",
       "date               2018-07-20 22:57:14+00:00\n",
       "latitude                             41.0303\n",
       "longitude                           -70.8807\n",
       "nearest_station                           L2\n",
       "distance_km                         0.224528\n",
       "Name: 2, dtype: object"
      ]
     },
     "execution_count": 17,
     "metadata": {},
     "output_type": "execute_result"
    }
   ],
   "source": [
    "by_cast.loc[2]"
   ]
  },
  {
   "cell_type": "markdown",
   "metadata": {},
   "source": [
    "**Challenge**: Make nearest_station the index and select the rows L2 "
   ]
  },
  {
   "cell_type": "markdown",
   "metadata": {},
   "source": [
    "### Select a slice of rows"
   ]
  },
  {
   "cell_type": "code",
   "execution_count": 23,
   "metadata": {},
   "outputs": [
    {
     "data": {
      "text/html": [
       "<div>\n",
       "<style scoped>\n",
       "    .dataframe tbody tr th:only-of-type {\n",
       "        vertical-align: middle;\n",
       "    }\n",
       "\n",
       "    .dataframe tbody tr th {\n",
       "        vertical-align: top;\n",
       "    }\n",
       "\n",
       "    .dataframe thead th {\n",
       "        text-align: right;\n",
       "    }\n",
       "</style>\n",
       "<table border=\"1\" class=\"dataframe\">\n",
       "  <thead>\n",
       "    <tr style=\"text-align: right;\">\n",
       "      <th></th>\n",
       "      <th>cruise</th>\n",
       "      <th>date</th>\n",
       "      <th>latitude</th>\n",
       "      <th>longitude</th>\n",
       "      <th>nearest_station</th>\n",
       "      <th>distance_km</th>\n",
       "    </tr>\n",
       "    <tr>\n",
       "      <th>cast</th>\n",
       "      <th></th>\n",
       "      <th></th>\n",
       "      <th></th>\n",
       "      <th></th>\n",
       "      <th></th>\n",
       "      <th></th>\n",
       "    </tr>\n",
       "  </thead>\n",
       "  <tbody>\n",
       "    <tr>\n",
       "      <th>2</th>\n",
       "      <td>EN617</td>\n",
       "      <td>2018-07-20 22:57:14+00:00</td>\n",
       "      <td>41.030333</td>\n",
       "      <td>-70.880667</td>\n",
       "      <td>L2</td>\n",
       "      <td>0.224528</td>\n",
       "    </tr>\n",
       "    <tr>\n",
       "      <th>3</th>\n",
       "      <td>EN617</td>\n",
       "      <td>2018-07-21 01:15:21+00:00</td>\n",
       "      <td>41.030000</td>\n",
       "      <td>-70.769833</td>\n",
       "      <td>u2a</td>\n",
       "      <td>0.224259</td>\n",
       "    </tr>\n",
       "    <tr>\n",
       "      <th>4</th>\n",
       "      <td>EN617</td>\n",
       "      <td>2018-07-21 02:58:24+00:00</td>\n",
       "      <td>41.030333</td>\n",
       "      <td>-70.991167</td>\n",
       "      <td>d2a</td>\n",
       "      <td>0.257766</td>\n",
       "    </tr>\n",
       "    <tr>\n",
       "      <th>5</th>\n",
       "      <td>EN617</td>\n",
       "      <td>2018-07-21 06:39:49+00:00</td>\n",
       "      <td>40.863667</td>\n",
       "      <td>-70.883000</td>\n",
       "      <td>L3</td>\n",
       "      <td>0.047935</td>\n",
       "    </tr>\n",
       "  </tbody>\n",
       "</table>\n",
       "</div>"
      ],
      "text/plain": [
       "     cruise                       date   latitude  longitude nearest_station  \\\n",
       "cast                                                                           \n",
       "2     EN617  2018-07-20 22:57:14+00:00  41.030333 -70.880667              L2   \n",
       "3     EN617  2018-07-21 01:15:21+00:00  41.030000 -70.769833             u2a   \n",
       "4     EN617  2018-07-21 02:58:24+00:00  41.030333 -70.991167             d2a   \n",
       "5     EN617  2018-07-21 06:39:49+00:00  40.863667 -70.883000              L3   \n",
       "\n",
       "      distance_km  \n",
       "cast               \n",
       "2        0.224528  \n",
       "3        0.224259  \n",
       "4        0.257766  \n",
       "5        0.047935  "
      ]
     },
     "execution_count": 23,
     "metadata": {},
     "output_type": "execute_result"
    }
   ],
   "source": [
    "by_cast.loc[2:5]"
   ]
  },
  {
   "cell_type": "markdown",
   "metadata": {},
   "source": [
    "### Select 1 specific value based on row and column\n",
    "loc[row label, column label]"
   ]
  },
  {
   "cell_type": "code",
   "execution_count": 18,
   "metadata": {},
   "outputs": [],
   "source": [
    "by_cast.loc[2,'nearest_station']"
   ]
  }
 ],
 "metadata": {
  "kernelspec": {
   "display_name": "Python 3",
   "language": "python",
   "name": "python3"
  },
  "language_info": {
   "codemirror_mode": {
    "name": "ipython",
    "version": 3
   },
   "file_extension": ".py",
   "mimetype": "text/x-python",
   "name": "python",
   "nbconvert_exporter": "python",
   "pygments_lexer": "ipython3",
   "version": "3.7.1"
  }
 },
 "nbformat": 4,
 "nbformat_minor": 2
}
