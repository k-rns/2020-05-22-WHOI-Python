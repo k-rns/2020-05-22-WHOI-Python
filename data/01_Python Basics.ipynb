{
 "cells": [
  {
   "cell_type": "markdown",
   "metadata": {},
   "source": [
    "## What is Python?\n",
    "Python is a general purpose programming language that supports rapid development of data analytics\n",
    "applications.  The word \"Python\" is used to refer to both, the programming language and the tool\n",
    "that executes the scripts written in Python language.\n",
    "\n",
    "Its main advantages are:\n",
    "\n",
    "* Free\n",
    "* Open-source\n",
    "* Available on all major platforms (macOS, Linux, Windows)\n",
    "* Supported by Python Software Foundation\n",
    "* Supports multiple programming paradigms\n",
    "* Has large community\n",
    "* Rich ecosystem of third-party packages\n",
    "\n",
    "*So, why do you need Python for data analysis?*\n",
    "\n",
    "- **Easy to learn:**\n",
    "Python is easier to learn than other programming languages. This is important because lower barriers\n",
    "mean it is easier for new members of the community to get up to speed.\n",
    "\n",
    "- **Reproducibility:**\n",
    "Reproducibility is the ability to obtain the same results using the same dataset(s) and analysis.\n",
    "\n",
    "Data analysis written as a Python script can be reproduced on any platform.  Moreover, if you\n",
    "collect more or correct existing data, you can quickly re-run your analysis!\n",
    "\n",
    "An increasing number of journals and funding agencies expect analyses to be reproducible,\n",
    "so knowing Python will give you an edge with these requirements.\n",
    "\n",
    "- **Versatility:**\n",
    "Python is a versatile language that integrates with many existing applications to enable something\n",
    "completely amazing.  For example, one can use Python to generate manuscripts, so that if you need to\n",
    "update your data, analysis procedure, or change something else, you can quickly regenerate all the\n",
    "figures and your manuscript will be updated automatically.\n",
    "\n",
    "Python can read text files, connect to databases, and many other data formats, on your computer or\n",
    "on the web.\n",
    "\n",
    "- **Interdisciplinary and extensible:**\n",
    "Python provides a framework that allows anyone to combine approaches from different research\n",
    "(but not only) disciplines to best suit your analysis needs.\n",
    "\n",
    "- **Python has a large and welcoming community:**\n",
    "Thousands of people use Python daily. Many of them are willing to help you through mailing lists and\n",
    "websites, such as [Stack Overflow][stack-overflow]  and [Anaconda community\n",
    "portal][anaconda-community].\n",
    "\n",
    "- **Free and Open-Source Software (FOSS)... and Cross-Platform:**\n",
    "We know we have already said that but it is worth repeating."
   ]
  },
  {
   "cell_type": "markdown",
   "metadata": {},
   "source": [
    "# Let's get started"
   ]
  },
  {
   "cell_type": "markdown",
   "metadata": {},
   "source": [
    "Open up Jupyter notebook. "
   ]
  },
  {
   "cell_type": "markdown",
   "metadata": {},
   "source": [
    "Strings, integers and floats"
   ]
  },
  {
   "cell_type": "code",
   "execution_count": 3,
   "metadata": {},
   "outputs": [
    {
     "data": {
      "text/plain": [
       "3.141592653589793"
      ]
     },
     "execution_count": 3,
     "metadata": {},
     "output_type": "execute_result"
    }
   ],
   "source": [
    "3.1415926535897932"
   ]
  },
  {
   "cell_type": "markdown",
   "metadata": {},
   "source": [
    "Operators"
   ]
  },
  {
   "cell_type": "code",
   "execution_count": 2,
   "metadata": {},
   "outputs": [
    {
     "data": {
      "text/plain": [
       "4"
      ]
     },
     "execution_count": 2,
     "metadata": {},
     "output_type": "execute_result"
    }
   ],
   "source": [
    "2 + 2"
   ]
  },
  {
   "cell_type": "markdown",
   "metadata": {},
   "source": [
    "Assign a value to a variable"
   ]
  },
  {
   "cell_type": "code",
   "execution_count": null,
   "metadata": {},
   "outputs": [],
   "source": [
    "a = 3"
   ]
  },
  {
   "cell_type": "markdown",
   "metadata": {},
   "source": [
    "Variable names can include characters such as \"_\" (but not \".\")"
   ]
  },
  {
   "cell_type": "code",
   "execution_count": 4,
   "metadata": {},
   "outputs": [
    {
     "data": {
      "text/plain": [
       "'some value'"
      ]
     },
     "execution_count": 4,
     "metadata": {},
     "output_type": "execute_result"
    }
   ],
   "source": [
    "some_variable = 'some value'\n",
    "some_variable\n",
    "\n"
   ]
  },
  {
   "cell_type": "markdown",
   "metadata": {},
   "source": [
    "Lists + indexing"
   ]
  },
  {
   "cell_type": "code",
   "execution_count": 1,
   "metadata": {},
   "outputs": [
    {
     "data": {
      "text/plain": [
       "1"
      ]
     },
     "execution_count": 1,
     "metadata": {},
     "output_type": "execute_result"
    }
   ],
   "source": [
    "numbers = [1, 2, 3, 4, 5 ,6]\n",
    "numbers[0]"
   ]
  },
  {
   "cell_type": "markdown",
   "metadata": {},
   "source": [
    "Slicing"
   ]
  },
  {
   "cell_type": "code",
   "execution_count": null,
   "metadata": {},
   "outputs": [],
   "source": []
  }
 ],
 "metadata": {
  "kernelspec": {
   "display_name": "Python 3",
   "language": "python",
   "name": "python3"
  },
  "language_info": {
   "codemirror_mode": {
    "name": "ipython",
    "version": 3
   },
   "file_extension": ".py",
   "mimetype": "text/x-python",
   "name": "python",
   "nbconvert_exporter": "python",
   "pygments_lexer": "ipython3",
   "version": "3.7.1"
  }
 },
 "nbformat": 4,
 "nbformat_minor": 2
}
