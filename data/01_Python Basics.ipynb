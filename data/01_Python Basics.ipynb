{
 "cells": [
  {
   "cell_type": "markdown",
   "metadata": {},
   "source": [
    "## What is Python?\n",
    "Python is a general purpose programming language that supports rapid development of data analytics\n",
    "applications.  The word \"Python\" is used to refer to both, the programming language and the tool\n",
    "that executes the scripts written in Python language.\n",
    "\n",
    "Its main advantages are:\n",
    "\n",
    "* Free\n",
    "* Open-source\n",
    "* Available on all major platforms (macOS, Linux, Windows)\n",
    "* Supported by Python Software Foundation\n",
    "* Supports multiple programming paradigms\n",
    "* Has large community\n",
    "* Rich ecosystem of third-party packages\n",
    "\n",
    "*So, why do you need Python for data analysis?*\n",
    "\n",
    "- **Easy to learn:**\n",
    "Python is easier to learn than other programming languages. This is important because lower barriers\n",
    "mean it is easier for new members of the community to get up to speed.\n",
    "\n",
    "- **Reproducibility:**\n",
    "Reproducibility is the ability to obtain the same results using the same dataset(s) and analysis.\n",
    "\n",
    "Data analysis written as a Python script can be reproduced on any platform.  Moreover, if you\n",
    "collect more or correct existing data, you can quickly re-run your analysis!\n",
    "\n",
    "An increasing number of journals and funding agencies expect analyses to be reproducible,\n",
    "so knowing Python will give you an edge with these requirements.\n",
    "\n",
    "- **Versatility:**\n",
    "Python is a versatile language that integrates with many existing applications to enable something\n",
    "completely amazing.  For example, one can use Python to generate manuscripts, so that if you need to\n",
    "update your data, analysis procedure, or change something else, you can quickly regenerate all the\n",
    "figures and your manuscript will be updated automatically.\n",
    "\n",
    "Python can read text files, connect to databases, and many other data formats, on your computer or\n",
    "on the web.\n",
    "\n",
    "- **Interdisciplinary and extensible:**\n",
    "Python provides a framework that allows anyone to combine approaches from different research\n",
    "(but not only) disciplines to best suit your analysis needs.\n",
    "\n",
    "- **Python has a large and welcoming community:**\n",
    "Thousands of people use Python daily. Many of them are willing to help you through mailing lists and\n",
    "websites, such as [Stack Overflow][stack-overflow]  and [Anaconda community\n",
    "portal][anaconda-community].\n",
    "\n",
    "- **Free and Open-Source Software (FOSS)... and Cross-Platform:**\n",
    "We know we have already said that but it is worth repeating."
   ]
  },
  {
   "cell_type": "markdown",
   "metadata": {},
   "source": [
    "# Let's get started"
   ]
  },
  {
   "cell_type": "markdown",
   "metadata": {},
   "source": [
    "Open up Jupyter notebook. In Jupyter, if you put a value on the last line of the cell and run the cell (shift+enter), the value will be printed below te cell:"
   ]
  },
  {
   "cell_type": "code",
   "execution_count": 1,
   "metadata": {},
   "outputs": [
    {
     "data": {
      "text/plain": [
       "3.145"
      ]
     },
     "execution_count": 1,
     "metadata": {},
     "output_type": "execute_result"
    }
   ],
   "source": [
    "3.145"
   ]
  },
  {
   "cell_type": "markdown",
   "metadata": {},
   "source": [
    "## Strings, integers and floats."
   ]
  },
  {
   "cell_type": "markdown",
   "metadata": {},
   "source": [
    " One of the most basic things you can do in python is assign values to variables:"
   ]
  },
  {
   "cell_type": "code",
   "execution_count": 2,
   "metadata": {},
   "outputs": [],
   "source": [
    "text = \"Hello world\" #An example of a string\n",
    "number = 42 #An example of an integer\n",
    "pi = 3.145 #An example of a float"
   ]
  },
  {
   "cell_type": "markdown",
   "metadata": {},
   "source": [
    "Here we`ve assigned data to the variables text, number and pi, using the assignment operator =. Variable names can include characters such as \"_\" (but not \".\"). To view the value of a variable, we can type the name of the variable into the cell and run it."
   ]
  },
  {
   "cell_type": "code",
   "execution_count": 3,
   "metadata": {},
   "outputs": [
    {
     "data": {
      "text/plain": [
       "'Hello world'"
      ]
     },
     "execution_count": 3,
     "metadata": {},
     "output_type": "execute_result"
    }
   ],
   "source": [
    "text"
   ]
  },
  {
   "cell_type": "markdown",
   "metadata": {},
   "source": [
    "Everything in Python has a type. To get to the type of a variable, we can bass it to the built-in function type."
   ]
  },
  {
   "cell_type": "code",
   "execution_count": 4,
   "metadata": {
    "scrolled": true
   },
   "outputs": [
    {
     "data": {
      "text/plain": [
       "str"
      ]
     },
     "execution_count": 4,
     "metadata": {},
     "output_type": "execute_result"
    }
   ],
   "source": [
    "type (text)"
   ]
  },
  {
   "cell_type": "markdown",
   "metadata": {},
   "source": [
    "The variable text is of type str, short for “string”. Strings hold sequences of characters, which can be letters, numbers, punctuation or more exotic forms of text."
   ]
  },
  {
   "cell_type": "code",
   "execution_count": 5,
   "metadata": {},
   "outputs": [
    {
     "data": {
      "text/plain": [
       "int"
      ]
     },
     "execution_count": 5,
     "metadata": {},
     "output_type": "execute_result"
    }
   ],
   "source": [
    "type (number)"
   ]
  },
  {
   "cell_type": "code",
   "execution_count": 6,
   "metadata": {},
   "outputs": [
    {
     "data": {
      "text/plain": [
       "float"
      ]
     },
     "execution_count": 6,
     "metadata": {},
     "output_type": "execute_result"
    }
   ],
   "source": [
    "type (pi)"
   ]
  },
  {
   "cell_type": "markdown",
   "metadata": {},
   "source": [
    "Integer and floats are numerical data. integer has no decimal point, while a float does."
   ]
  },
  {
   "cell_type": "markdown",
   "metadata": {},
   "source": [
    "## Operators"
   ]
  },
  {
   "cell_type": "markdown",
   "metadata": {},
   "source": [
    "### Basic operators"
   ]
  },
  {
   "cell_type": "markdown",
   "metadata": {},
   "source": [
    "We can perform mathematical calculations in Python using the basic operators +, -, /, *, %:"
   ]
  },
  {
   "cell_type": "code",
   "execution_count": 7,
   "metadata": {},
   "outputs": [
    {
     "data": {
      "text/plain": [
       "4"
      ]
     },
     "execution_count": 7,
     "metadata": {},
     "output_type": "execute_result"
    }
   ],
   "source": [
    "# # Comments in Python start with #\n",
    "# Addition\n",
    "2 + 2"
   ]
  },
  {
   "cell_type": "code",
   "execution_count": 8,
   "metadata": {},
   "outputs": [
    {
     "data": {
      "text/plain": [
       "25"
      ]
     },
     "execution_count": 8,
     "metadata": {},
     "output_type": "execute_result"
    }
   ],
   "source": [
    "# Multiplication\n",
    "5*5"
   ]
  },
  {
   "cell_type": "markdown",
   "metadata": {},
   "source": [
    "We can also use comparison and logic operators: <, >, ==, !=, <=, >="
   ]
  },
  {
   "cell_type": "code",
   "execution_count": 9,
   "metadata": {},
   "outputs": [
    {
     "data": {
      "text/plain": [
       "False"
      ]
     },
     "execution_count": 9,
     "metadata": {},
     "output_type": "execute_result"
    }
   ],
   "source": [
    "3 > 4"
   ]
  },
  {
   "cell_type": "markdown",
   "metadata": {},
   "source": [
    "The data type returned by this is called a boolean."
   ]
  },
  {
   "cell_type": "markdown",
   "metadata": {},
   "source": [
    "## Lists & indexing"
   ]
  },
  {
   "cell_type": "markdown",
   "metadata": {},
   "source": [
    "Lists are a common data structure to hold an ordered sequence of elements. Lists are created by placing comma-separated values inside square brackets. Each element can be accessed by an index. Note that Python indexes start with 0 instead of 1:"
   ]
  },
  {
   "cell_type": "code",
   "execution_count": 10,
   "metadata": {},
   "outputs": [],
   "source": [
    "#create a list\n",
    "the_alphabet = ['a', 'b', 'c', 'd', 'e' , 'f']\n"
   ]
  },
  {
   "cell_type": "code",
   "execution_count": 11,
   "metadata": {},
   "outputs": [
    {
     "data": {
      "text/plain": [
       "'c'"
      ]
     },
     "execution_count": 11,
     "metadata": {},
     "output_type": "execute_result"
    }
   ],
   "source": [
    "# print the value at index 2\n",
    "the_alphabet[2]"
   ]
  },
  {
   "cell_type": "markdown",
   "metadata": {},
   "source": [
    "**KEY POINTS**\n",
    "\n",
    "* Python is an interpreted language which can be used interactively (executing one command at a time) or in scripting mode (executing a series of commands saved in file).\n",
    "\n",
    "* One can assign a value to a variable in Python. Those variables can be of several types, such as string, integer, floating point and complex numbers.\n",
    "\n",
    "* Lists are ordered sequence of elements"
   ]
  },
  {
   "cell_type": "code",
   "execution_count": null,
   "metadata": {},
   "outputs": [],
   "source": []
  }
 ],
 "metadata": {
  "kernelspec": {
   "display_name": "Python 3",
   "language": "python",
   "name": "python3"
  },
  "language_info": {
   "codemirror_mode": {
    "name": "ipython",
    "version": 3
   },
   "file_extension": ".py",
   "mimetype": "text/x-python",
   "name": "python",
   "nbconvert_exporter": "python",
   "pygments_lexer": "ipython3",
   "version": "3.7.1"
  }
 },
 "nbformat": 4,
 "nbformat_minor": 2
}
